{
  "cells": [
    {
      "cell_type": "markdown",
      "metadata": {
        "id": "view-in-github",
        "colab_type": "text"
      },
      "source": [
        "<a href=\"https://colab.research.google.com/github/sydney-machine-learning/differentiable-pedestrian-simulators/blob/main/Implementing_2_Pedestrian.ipynb\" target=\"_parent\"><img src=\"https://colab.research.google.com/assets/colab-badge.svg\" alt=\"Open In Colab\"/></a>"
      ]
    },
    {
      "cell_type": "markdown",
      "source": [
        "**Task was to implement the simplest form of finding the trajectory of two pedestrian such that they don't collide.**\n",
        "\n",
        "\n",
        "*   Suggested cost function was L2 norm between the current position and final goal position of the pedestrian\n",
        "*  The penalty factor to avoid collision, viz inverse of L2 norm of diff between the position of the two pedestrian was included.\n",
        "\n"
      ],
      "metadata": {
        "id": "A0dEVE0z9h20"
      }
    },
    {
      "cell_type": "code",
      "execution_count": 83,
      "metadata": {
        "id": "guuSGS2oXHT6"
      },
      "outputs": [],
      "source": [
        "import torch\n",
        "import numpy as np\n",
        "import matplotlib.pyplot as plt\n",
        "import seaborn as sns"
      ]
    },
    {
      "cell_type": "code",
      "execution_count": 84,
      "metadata": {
        "id": "K4N5i3wOXa8H"
      },
      "outputs": [],
      "source": [
        "def f_val_double(x1,x2,v1,v2,g1,g2):\n",
        "  x1.requires_grad=True\n",
        "  x2.requires_grad=True\n",
        "  cost_function=torch.linalg.norm(torch.sub(x1,g1))\n",
        "  sig =torch.pow(torch.linalg.norm(torch.sub(x1,x2)),-2)\n",
        "  sig = sig + 99*torch.pow(torch.linalg.norm(torch.sub(v1,v2)),-2)\n",
        "  cost_function = cost_function + 90*torch.linalg.norm(x2-g2)\n",
        "  cost_function = cost_function - 100*sig\n",
        "  cost_function.backward()\n",
        "  return -x1.grad , -x2.grad"
      ]
    },
    {
      "cell_type": "code",
      "execution_count": 85,
      "metadata": {
        "id": "GpHyKMwbYjZd"
      },
      "outputs": [],
      "source": [
        "g1=torch.Tensor([1,0])\n",
        "g2=torch.Tensor([0,0])"
      ]
    },
    {
      "cell_type": "code",
      "execution_count": 86,
      "metadata": {
        "id": "NQS2kTUmYjV-"
      },
      "outputs": [],
      "source": [
        "x1=torch.Tensor([0,0])\n",
        "x2=torch.Tensor([1,0])"
      ]
    },
    {
      "cell_type": "code",
      "execution_count": 87,
      "metadata": {
        "id": "2l8ecTvaYCdM"
      },
      "outputs": [],
      "source": [
        "x10 = x1\n",
        "x20 = x2\n",
        "dt = 0.0001\n",
        "x1_list=[]\n",
        "x2_list=[]\n",
        "x1_list.append(x1.clone())\n",
        "x2_list.append(x2.clone())\n",
        "v1 = torch.tensor([100,10], dtype=torch.float32)\n",
        "v2 = -v1\n",
        "for i in range(100):\n",
        "  v1,v2 = f_val_double(x1,x2,v1,v2,g1,g2)\n",
        "  #print(f\"Vel v1: {v1} v2: {v2}\")\n",
        "  with torch.no_grad():\n",
        "    x1 +=dt*v1\n",
        "    x2 +=dt*v2\n",
        "  #print(f\"Pos x1: {x1.clone()} x2: {x2.clone()}\")\n",
        "  if(x1[0]>1 or x2[0]<0):\n",
        "    pass\n",
        "    #break\n",
        "  x1_list.append(x1.clone())\n",
        "  x2_list.append(x2.clone())"
      ]
    },
    {
      "cell_type": "markdown",
      "source": [],
      "metadata": {
        "id": "MOEi-OYN9gCs"
      }
    },
    {
      "cell_type": "code",
      "execution_count": 88,
      "metadata": {
        "id": "VjE-R7ihbzQr"
      },
      "outputs": [],
      "source": [
        "#x1_list[10:]"
      ]
    },
    {
      "cell_type": "code",
      "execution_count": 89,
      "metadata": {
        "id": "WLvt0JXaZzcC"
      },
      "outputs": [],
      "source": [
        "y1=[]\n",
        "for x in x1_list:\n",
        "  y1.append(x.clone().detach().numpy())"
      ]
    },
    {
      "cell_type": "code",
      "execution_count": 90,
      "metadata": {
        "id": "QATVWUYcaXcx"
      },
      "outputs": [],
      "source": [
        "x11=[]\n",
        "y11=[]\n",
        "for x in y1:\n",
        "  x11.append(x[0])\n",
        "  y11.append(x[1])"
      ]
    },
    {
      "cell_type": "code",
      "execution_count": 91,
      "metadata": {
        "id": "bOx1ufh3aZef"
      },
      "outputs": [],
      "source": [
        "y2=[]\n",
        "for x in x2_list:\n",
        "  y2.append(x.clone().detach().numpy())\n",
        "\n",
        "x22=[]\n",
        "y22=[]\n",
        "for x in y2:\n",
        "  x22.append(x[0])\n",
        "  y22.append(x[1])"
      ]
    },
    {
      "cell_type": "code",
      "execution_count": 92,
      "metadata": {
        "id": "p16CTsQwbsOP"
      },
      "outputs": [],
      "source": [
        "#x22[:10]"
      ]
    },
    {
      "cell_type": "code",
      "source": [
        "plt.xlim((0,1))\n",
        "plt.ylim((0,1))"
      ],
      "metadata": {
        "colab": {
          "base_uri": "https://localhost:8080/",
          "height": 286
        },
        "id": "LDyb4Fm7L3gv",
        "outputId": "19df4eec-15c4-4859-e5b1-5eefe6fbf47e"
      },
      "execution_count": 93,
      "outputs": [
        {
          "output_type": "execute_result",
          "data": {
            "text/plain": [
              "(0.0, 1.0)"
            ]
          },
          "metadata": {},
          "execution_count": 93
        },
        {
          "output_type": "display_data",
          "data": {
            "text/plain": [
              "<Figure size 432x288 with 1 Axes>"
            ],
            "image/png": "[encoded data removed]"
          },
          "metadata": {
            "needs_background": "light"
          }
        }
      ]
    },
    {
      "cell_type": "markdown",
      "source": [
        "Plot of two pedestrian's Trajectory in same graph:"
      ],
      "metadata": {
        "id": "AhiSwOVy-eJ8"
      }
    },
    {
      "cell_type": "code",
      "source": [
        "plt.plot(x11, y11, color='r', label='ped-1')\n",
        "plt.plot(x22, y22, color='g', label='ped-2')"
      ],
      "metadata": {
        "colab": {
          "base_uri": "https://localhost:8080/",
          "height": 282
        },
        "id": "018ZQYolNFsm",
        "outputId": "9c0b800d-bc4c-4ac3-dff7-59093d6e12b5"
      },
      "execution_count": 94,
      "outputs": [
        {
          "output_type": "execute_result",
          "data": {
            "text/plain": [
              "[<matplotlib.lines.Line2D at 0x7f8c485ac1c0>]"
            ]
          },
          "metadata": {},
          "execution_count": 94
        },
        {
          "output_type": "display_data",
          "data": {
            "text/plain": [
              "<Figure size 432x288 with 1 Axes>"
            ],
            "image/png": "[encoded data removed]"
          },
          "metadata": {
            "needs_background": "light"
          }
        }
      ]
    },
    {
      "cell_type": "markdown",
      "source": [
        "Pedestrian 1: "
      ],
      "metadata": {
        "id": "21GEzgZ_-lCi"
      }
    },
    {
      "cell_type": "code",
      "execution_count": 95,
      "metadata": {
        "colab": {
          "base_uri": "https://localhost:8080/",
          "height": 282
        },
        "id": "D2VCDoWVabzY",
        "outputId": "bf045253-208c-41c6-abab-f3701b17fc69"
      },
      "outputs": [
        {
          "output_type": "execute_result",
          "data": {
            "text/plain": [
              "[<matplotlib.lines.Line2D at 0x7f8c486f1970>]"
            ]
          },
          "metadata": {},
          "execution_count": 95
        },
        {
          "output_type": "display_data",
          "data": {
            "text/plain": [
              "<Figure size 432x288 with 1 Axes>"
            ],
            "image/png": "[encoded data removed]"
          },
          "metadata": {
            "needs_background": "light"
          }
        }
      ],
      "source": [
        "plt.plot(x11,y11)"
      ]
    },
    {
      "cell_type": "markdown",
      "source": [
        "Pedestrian 2:"
      ],
      "metadata": {
        "id": "VkrO4Fpr-m8k"
      }
    },
    {
      "cell_type": "code",
      "execution_count": 96,
      "metadata": {
        "colab": {
          "base_uri": "https://localhost:8080/",
          "height": 282
        },
        "id": "R8d1oIDQad4b",
        "outputId": "1db85f1a-1d01-4319-cdce-a242176dc4a3"
      },
      "outputs": [
        {
          "output_type": "execute_result",
          "data": {
            "text/plain": [
              "[<matplotlib.lines.Line2D at 0x7f8c49b55ca0>]"
            ]
          },
          "metadata": {},
          "execution_count": 96
        },
        {
          "output_type": "display_data",
          "data": {
            "text/plain": [
              "<Figure size 432x288 with 1 Axes>"
            ],
            "image/png": "[encoded data removed]"
          },
          "metadata": {
            "needs_background": "light"
          }
        }
      ],
      "source": [
        "plt.plot(x22,y22)"
      ]
    },
    {
      "cell_type": "code",
      "source": [],
      "metadata": {
        "id": "UrR_HTrm5dDj"
      },
      "execution_count": 96,
      "outputs": []
    }
  ],
  "metadata": {
    "colab": {
      "provenance": [],
      "include_colab_link": true
    },
    "kernelspec": {
      "display_name": "Python 3",
      "name": "python3"
    },
    "language_info": {
      "name": "python"
    }
  },
  "nbformat": 4,
  "nbformat_minor": 0
}