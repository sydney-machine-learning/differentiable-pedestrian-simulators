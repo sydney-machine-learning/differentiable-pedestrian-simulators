{
  "nbformat": 4,
  "nbformat_minor": 0,
  "metadata": {
    "colab": {
      "provenance": [],
      "include_colab_link": true
    },
    "kernelspec": {
      "name": "python3",
      "display_name": "Python 3"
    },
    "language_info": {
      "name": "python"
    }
  },
  "cells": [
    {
      "cell_type": "markdown",
      "metadata": {
        "id": "view-in-github",
        "colab_type": "text"
      },
      "source": [
        "<a href=\"https://colab.research.google.com/github/sydney-machine-learning/differentiable-pedestrian-simulators/blob/main/Differentiable_pedestrian_simulators.ipynb\" target=\"_parent\"><img src=\"https://colab.research.google.com/assets/colab-badge.svg\" alt=\"Open In Colab\"/></a>"
      ]
    },
    {
      "cell_type": "code",
      "execution_count": null,
      "metadata": {
        "id": "SB_CfhvlByTC"
      },
      "outputs": [],
      "source": [
        "import torch\n",
        "import numpy as np\n",
        "import matplotlib.pyplot as plt\n",
        "import seaborn as sns"
      ]
    },
    {
      "cell_type": "code",
      "source": [
        "def calc_tau(xi,xj,vi,vj,ri,rj):\n",
        "  xij=torch.sub(xi,xj)\n",
        "  vij=torch.sub(vi,vj)\n",
        "  r=ri+rj\n",
        "  a=torch.square(torch.linalg.norm(vij, dim=-1, ord=2))\n",
        "  b=torch.dot(xij,vij)\n",
        "  c=torch.sub(torch.square(torch.linalg.norm(xij, dim=-1, ord=2)),torch.square(r))\n",
        "  if torch.square(b)-torch.mul(a,c)<0:\n",
        "    tau=torch.tensor(float('inf'))\n",
        "  else:\n",
        "    nr=-b-torch.sqrt(torch.square(b)-torch.mul(a,c))\n",
        "    tau=torch.div(nr,a)\n",
        "    if tau<0:\n",
        "      tau=torch.tensor(float('inf'))\n",
        "  return tau\n"
      ],
      "metadata": {
        "id": "2UsOL0rRTNyO"
      },
      "execution_count": null,
      "outputs": []
    },
    {
      "cell_type": "code",
      "source": [
        "calc_tau(torch.Tensor([100,21]),torch.Tensor([2,3]),torch.Tensor([1,2]),torch.Tensor([5,4]),torch.Tensor([0]),torch.Tensor([50]))"
      ],
      "metadata": {
        "id": "NrN4Fq_FSe1Q",
        "colab": {
          "base_uri": "https://localhost:8080/"
        },
        "outputId": "994bbfdb-cc88-4594-a7f2-aaebb690dcd0"
      },
      "execution_count": null,
      "outputs": [
        {
          "output_type": "execute_result",
          "data": {
            "text/plain": [
              "tensor([12.0962])"
            ]
          },
          "metadata": {},
          "execution_count": 4
        }
      ]
    },
    {
      "cell_type": "code",
      "source": [
        "def cont_time_collision(xi,xj,vi,vj,ri,rj,epsilon):\n",
        "    xij=torch.sub(xi,xj)\n",
        "    vij=torch.sub(vi,vj)\n",
        "    r=ri+rj\n",
        "    xij_hat=-torch.div(xij,torch.linalg.norm(xij,dim=-1,ord=2))\n",
        "    v_p=torch.dot(vij,xij_hat)\n",
        "    v_p_vect=v_p*xij_hat\n",
        "    v_t_vect=torch.sub(vij,v_p_vect)\n",
        "    v_t=torch.linalg.norm(v_t_vect,dim=-1,ord=2)\n",
        "    a=torch.tensor([torch.square(torch.linalg.norm(vij))])\n",
        "    b=torch.tensor([torch.dot(xij,vij)])\n",
        "    c=torch.sub(torch.square(torch.linalg.norm(xij, dim=-1, ord=2)),torch.square(r))\n",
        "    sigma=-b+torch.sqrt(torch.square(b)-torch.mul(a,c))\n",
        "    sigma=torch.div(sigma,c)\n",
        "    if(sigma < 0 or torch.isnan(sigma)): ## Case of no positive solutions\n",
        "      sigma=torch.Tensor([0])\n",
        "    vt_max=torch.div(torch.mul(r,v_p),torch.sqrt(torch.sub(torch.square(torch.linalg.norm(xij,dim=-1,ord=2)),torch.square(r))))\n",
        "    vt_star=torch.sqrt(torch.sub(torch.tensor([1]),torch.square(epsilon)))\n",
        "    vt_star=torch.mul(vt_star,vt_max)\n",
        "    if(v_t<=vt_star):\n",
        "      sigma1=sigma\n",
        "    else:\n",
        "      sigma1=torch.tensor([0])\n",
        "      sigma1_at_vt_star=torch.mul(torch.add(torch.linalg.norm(xij,dim=-1,ord=2),torch.mul(epsilon,r)),v_p)\n",
        "      sigma1_at_vt_star=torch.div(sigma1_at_vt_star,torch.sub(torch.square(torch.linalg.norm(xij,dim=-1,ord=2)),torch.square(r)))\n",
        "      sigma11_at_vt_star=-torch.sqrt(torch.sub(torch.tensor([1]),torch.square(epsilon)))\n",
        "      sigma11_at_vt_star=torch.div(sigma11_at_vt_star,torch.mul(epsilon,torch.sqrt(torch.sub(torch.square(torch.linalg.norm(xij,dim=-1,ord=2)),torch.square(r)))))\n",
        "      temp=torch.add(sigma1_at_vt_star,torch.mul(sigma11_at_vt_star,torch.sub(v_t,vt_star)))\n",
        "      if(temp>sigma1):\n",
        "        sigma1=temp\n",
        "    return sigma1"
      ],
      "metadata": {
        "id": "sdnGGl7ZQH3U"
      },
      "execution_count": null,
      "outputs": []
    },
    {
      "cell_type": "code",
      "source": [
        "print(cont_time_collision(torch.Tensor([100,21]),torch.Tensor([2,3]),torch.Tensor([1,2]),torch.Tensor([5,4]),torch.Tensor([0]),torch.Tensor([50]),torch.Tensor([0.03])))"
      ],
      "metadata": {
        "id": "Osx7Q0N3V5I_",
        "outputId": "427024d8-a26d-4a5a-b52d-49663399b797",
        "colab": {
          "base_uri": "https://localhost:8080/"
        }
      },
      "execution_count": null,
      "outputs": [
        {
          "output_type": "stream",
          "name": "stdout",
          "text": [
            "tensor([0.0827])\n"
          ]
        }
      ]
    },
    {
      "cell_type": "code",
      "source": [
        "def plot(): # A plot between tuning parameter epsilon and inv_time\n",
        "  x=np.linspace(0,1,100)\n",
        "  y=[]\n",
        "  for val in x:\n",
        "    ans=cont_time_collision(torch.Tensor([100,21]),torch.Tensor([2,3]),torch.Tensor([1,2]),torch.Tensor([5,4]),torch.Tensor([0]),torch.Tensor([50]),torch.Tensor([val]))\n",
        "    ans=ans.tolist()\n",
        "    y.append(ans)\n",
        "  plt.plot(x,y)\n",
        "  plt.xlabel(\"Different values of epsilon\")\n",
        "  plt.ylabel(\"Sigma\")\n",
        "  plt.show()"
      ],
      "metadata": {
        "id": "hEfDFxbf9OrJ"
      },
      "execution_count": null,
      "outputs": []
    },
    {
      "cell_type": "code",
      "source": [
        "plot()"
      ],
      "metadata": {
        "colab": {
          "base_uri": "https://localhost:8080/",
          "height": 279
        },
        "id": "OA5uuUR5FA62",
        "outputId": "7a5672df-174e-4bd6-c9fd-dcc6629d7c03"
      },
      "execution_count": null,
      "outputs": [
        {
          "output_type": "display_data",
          "data": {
            "text/plain": [
              "<Figure size 432x288 with 1 Axes>"
            ],
            "image/png": "[encoded data removed]"
          },
          "metadata": {
            "needs_background": "light"
          }
        }
      ]
    },
    {
      "cell_type": "code",
      "source": [
        "def trajectory(x1,x2,v1,v2,r1,r2,epsilon,delta,k,p,time,tau_0,eta):\n",
        "    \n",
        "    vi_1=torch.rand(2,requires_grad=True)\n",
        "    vi_2=torch.rand(2,requires_grad=True)\n",
        "    x1_traj=[]\n",
        "    x2_traj=[]\n",
        "    x1_traj.append(x1.tolist())\n",
        "    x2_traj.append(x2.tolist())\n",
        "    adam=torch.optim.Adam(params=[vi_1,vi_2])\n",
        "    x_curr1=x1\n",
        "    x_curr2=x2\n",
        "    mag_v1=torch.linalg.norm(v1)\n",
        "    mag_v2=torch.linalg.norm(v2)\n",
        "    for j in range(100):\n",
        "\n",
        "      x1_hat=torch.div(torch.sub(x2,x_curr1),torch.linalg.norm(torch.sub(x_curr1,x2)))\n",
        "      #mag_v1=torch.linalg.norm(v1)\n",
        "      #mag_v2=torch.linalg.norm(v2)\n",
        "      vig_1=torch.mul(mag_v1,x1_hat)\n",
        "      x2_hat=torch.div(torch.sub(x1,x_curr2),torch.linalg.norm(torch.sub(x_curr2,x1)))\n",
        "      vig_2=torch.mul(mag_v2,x2_hat)\n",
        "      for i in range(100):\n",
        "        #loss_fn=torch.mul(torch.Tensor([0.5]),torch.mul(delta,torch.square(torch.linalg.norm(torch.sub(vi_1,vig_1),dim=-1,ord=2))))\n",
        "        loss_fn=torch.mul(torch.Tensor([0.5]),torch.mul(delta,torch.square(torch.linalg.norm(torch.sub(vi_1,vig_1)))))\n",
        "        loss_fn=torch.add(loss_fn,torch.mul(torch.Tensor([0.5]),torch.mul(delta,torch.square(torch.linalg.norm(torch.sub(vi_2,vig_2))))))\n",
        "        sigma=cont_time_collision(x1,x2,vi_1,vi_2,r1,r2,epsilon)\n",
        "        r=r1+r2\n",
        "        xij=torch.sub(x1,x2)\n",
        "        if(torch.linalg.norm(xij)>r):\n",
        "          u_term=torch.div(eta,torch.sub(torch.linalg.norm(xij),r))\n",
        "        else:\n",
        "          u_term=torch.tensor(float('inf'))\n",
        "        potential_term=torch.exp(-(torch.div(torch.Tensor(1),torch.mul(sigma,tau_0))))\n",
        "        potential_term=torch.mul(k,torch.mul(potential_term,torch.pow(sigma,p)))\n",
        "        loss_fn=torch.add(loss_fn,potential_term)\n",
        "        loss_fn=torch.add(loss_fn,u_term)\n",
        "        adam.zero_grad()\n",
        "        loss_fn.backward(retain_graph=True)\n",
        "        adam.step()\n",
        "\n",
        "      x_curr1=torch.mul(vi_1,time)\n",
        "      x_curr2=torch.mul(vi_2,time)\n",
        "      x1_traj.append(x_curr1.tolist())\n",
        "      x2_traj.append(x_curr2.tolist())\n",
        "\n",
        "      \n",
        "      \n",
        "    \n",
        "\n",
        "    return x1_traj,x2_traj\n",
        "\n",
        "\n",
        "    \n",
        "\n",
        "\n",
        "\n",
        "\n",
        "\n",
        "\n",
        "\n"
      ],
      "metadata": {
        "id": "g2LU55AqFp3B"
      },
      "execution_count": null,
      "outputs": []
    },
    {
      "cell_type": "code",
      "source": [
        "x,y=trajectory(torch.Tensor([0,0]),torch.Tensor([1,0]),torch.Tensor([1,0]),torch.Tensor([-1,0]),torch.Tensor([0.01]),torch.Tensor([0.01]),torch.Tensor([0.2]),torch.Tensor([2]),torch.Tensor([2]),torch.Tensor([2]),torch.Tensor([0.02]),torch.Tensor([3]),torch.Tensor([0.01]))"
      ],
      "metadata": {
        "id": "UvgdeHpTnNKu"
      },
      "execution_count": null,
      "outputs": []
    },
    {
      "cell_type": "code",
      "source": [
        "x"
      ],
      "metadata": {
        "colab": {
          "base_uri": "https://localhost:8080/"
        },
        "id": "kqlntXWl44G7",
        "outputId": "ca1c2577-da18-4d96-adbd-2d522e3117a4"
      },
      "execution_count": null,
      "outputs": [
        {
          "output_type": "execute_result",
          "data": {
            "text/plain": [
              "[[0.0, 0.0],\n",
              " [0.012116895988583565, 0.007527044974267483],\n",
              " [0.013826937414705753, 0.005785208195447922],\n",
              " [0.015303228981792927, 0.004309921059757471],\n",
              " [0.01654009148478508, 0.003098295768722892],\n",
              " [0.017486056312918663, 0.0023931865580379963],\n",
              " [0.018019987270236015, 0.002802076982334256],\n",
              " [0.018333859741687775, 0.0034796399995684624],\n",
              " [0.018497265875339508, 0.004200252704322338],\n",
              " [0.018841596320271492, 0.0036054744850844145],\n",
              " [0.01883714832365513, 0.004230762366205454],\n",
              " [0.019110023975372314, 0.0033896092791110277],\n",
              " [0.018957797437906265, 0.004241309594362974],\n",
              " [0.019437234848737717, 0.002387046115472913],\n",
              " [0.0193565022200346, 0.0025763073936104774],\n",
              " [0.018780922517180443, 0.0046890233643352985],\n",
              " [0.01938791386783123, 0.0029316770378500223],\n",
              " [0.018967533484101295, 0.0040138172917068005],\n",
              " [0.018429551273584366, 0.0058257137425243855],\n",
              " [0.019314508885145187, 0.0037187011912465096],\n",
              " [0.018822383135557175, 0.0045987400226294994],\n",
              " [0.019507581368088722, 0.0030333211179822683],\n",
              " [0.018960965797305107, 0.003905928460881114],\n",
              " [0.018470657989382744, 0.005362160503864288],\n",
              " [0.01947142370045185, 0.003484677290543914],\n",
              " [0.018780285492539406, 0.004520060494542122],\n",
              " [0.019536850973963737, 0.003106530522927642],\n",
              " [0.018913470208644867, 0.003997281193733215],\n",
              " [0.018746431916952133, 0.004651094786822796],\n",
              " [0.019278546795248985, 0.0037463062908500433],\n",
              " [0.018712762743234634, 0.004699032753705978],\n",
              " [0.019463900476694107, 0.0033725867979228497],\n",
              " [0.01881117932498455, 0.004296913743019104],\n",
              " [0.01931334100663662, 0.0035315672867000103],\n",
              " [0.01892462745308876, 0.00409493176266551],\n",
              " [0.018965596333146095, 0.004228415433317423],\n",
              " [0.019105758517980576, 0.003980217035859823],\n",
              " [0.018830949440598488, 0.004506907891482115],\n",
              " [0.01925189048051834, 0.003737495979294181],\n",
              " [0.018821468576788902, 0.004439328331500292],\n",
              " [0.019310321658849716, 0.0035536412615329027],\n",
              " [0.01886710897088051, 0.004259474575519562],\n",
              " [0.019233806058764458, 0.0036767541896551847],\n",
              " [0.018971838057041168, 0.004043231718242168],\n",
              " [0.018771396949887276, 0.0047700777649879456],\n",
              " [0.019434204325079918, 0.0032232189550995827],\n",
              " [0.018434179946780205, 0.005278509575873613],\n",
              " [0.019945278763771057, 0.0024266433902084827],\n",
              " [0.018573841080069542, 0.004251360893249512],\n",
              " [0.01994505152106285, 0.0022099092602729797],\n",
              " [0.01871572993695736, 0.003743806155398488],\n",
              " [0.018297819420695305, 0.005692945793271065],\n",
              " [0.019880421459674835, 0.0032182135619223118],\n",
              " [0.01853211410343647, 0.004512004088610411],\n",
              " [0.01993800327181816, 0.0025785984471440315],\n",
              " [0.018683087080717087, 0.0038532945327460766],\n",
              " [0.018361520022153854, 0.005451312754303217],\n",
              " [0.01976185478270054, 0.003471761243417859],\n",
              " [0.018566198647022247, 0.004505604971200228],\n",
              " [0.019617171958088875, 0.003238534554839134],\n",
              " [0.018789513036608696, 0.004012314602732658],\n",
              " [0.018854675814509392, 0.004433009307831526],\n",
              " [0.019251087680459023, 0.003784922184422612],\n",
              " [0.01863347366452217, 0.004733555018901825],\n",
              " [0.019517768174409866, 0.0033750508446246386],\n",
              " [0.018700411543250084, 0.004380551632493734],\n",
              " [0.019445473328232765, 0.0033427500165998936],\n",
              " [0.01883048564195633, 0.004127516411244869],\n",
              " [0.019064052030444145, 0.0040416112169623375],\n",
              " [0.01904125325381756, 0.004022322595119476],\n",
              " [0.018814068287611008, 0.004551704972982407],\n",
              " [0.019239667803049088, 0.0037359462585300207],\n",
              " [0.018765464425086975, 0.0045708962716162205],\n",
              " [0.019374310970306396, 0.0033753046300262213],\n",
              " [0.018799301236867905, 0.004389917012304068],\n",
              " [0.01948484405875206, 0.003059911308810115],\n",
              " [0.018837982788681984, 0.004203735385090113],\n",
              " [0.02000414952635765, 0.001424873829819262],\n",
              " [0.018709298223257065, 0.0035126851871609688],\n",
              " [0.018434463068842888, 0.005461778491735458],\n",
              " [0.01981225050985813, 0.002933066338300705],\n",
              " [0.018532956019043922, 0.004573852755129337],\n",
              " [0.0200083889067173, 0.0021914157550781965],\n",
              " [0.018629003316164017, 0.0038507585413753986],\n",
              " [0.01831510104238987, 0.005731542594730854],\n",
              " [0.019882168620824814, 0.0032412882428616285],\n",
              " [0.01849627122282982, 0.004573142621666193],\n",
              " [0.019991664215922356, 0.0025036886800080538],\n",
              " [0.01861696131527424, 0.003904850920662284],\n",
              " [0.018450969830155373, 0.0052978950552642345],\n",
              " [0.019585020840168, 0.003682768205180764],\n",
              " [0.01861017942428589, 0.00455433176830411],\n",
              " [0.019496958702802658, 0.003454404417425394],\n",
              " [0.018822723999619484, 0.004068562760949135],\n",
              " [0.019000966101884842, 0.004140637349337339],\n",
              " [0.01909232884645462, 0.0039381287060678005],\n",
              " [0.01881399191915989, 0.004447398241609335],\n",
              " [0.019225673750042915, 0.0037748394533991814],\n",
              " [0.01883416436612606, 0.004352352116256952],\n",
              " [0.019211282953619957, 0.0037406710907816887],\n",
              " [0.018915733322501183, 0.004169403109699488]]"
            ]
          },
          "metadata": {},
          "execution_count": 25
        }
      ]
    },
    {
      "cell_type": "code",
      "source": [
        "y"
      ],
      "metadata": {
        "colab": {
          "base_uri": "https://localhost:8080/"
        },
        "id": "zIuMuRZR9d-H",
        "outputId": "77db2a70-e9de-4562-9c48-ce56935866e1"
      },
      "execution_count": null,
      "outputs": [
        {
          "output_type": "execute_result",
          "data": {
            "text/plain": [
              "[[1.0, 0.0],\n",
              " [0.011520973406732082, 0.0007294872193597257],\n",
              " [0.00959890615195036, -6.695889169350266e-05],\n",
              " [0.00773771945387125, 7.258826826728182e-06],\n",
              " [0.005936505738645792, -1.0476541092430125e-06],\n",
              " [0.004206361249089241, -0.0005374661996029317],\n",
              " [0.0025903177447617054, -0.0005754106678068638],\n",
              " [0.0010595275089144707, -0.000295858655590564],\n",
              " [-0.00039140263106673956, 7.768144132569432e-05],\n",
              " [0.001056546694599092, -0.0003349329927004874],\n",
              " [-0.00020955914806108922, 7.203199493233114e-05],\n",
              " [0.0013500457862392068, -0.0005580149590969086],\n",
              " [2.3886115741333924e-05, 0.00010985583503497764],\n",
              " [-0.001340370625257492, -0.006367469672113657],\n",
              " [-0.0008399537764489651, -0.0017770305275917053],\n",
              " [0.00024934150860644877, 0.0006902303430251777],\n",
              " [-0.000647607957944274, -0.0022803342435508966],\n",
              " [5.635328079733881e-07, -8.46338807605207e-05],\n",
              " [-4.1577550291549414e-06, 0.0018717303173616529],\n",
              " [5.0580219976836815e-06, -0.001194814802147448],\n",
              " [8.353587327292189e-05, 0.0005600695731118321],\n",
              " [-0.00029068661388009787, -0.001973626669496298],\n",
              " [0.0001503050298197195, -0.00016469860565848649],\n",
              " [-0.0011030983878299594, 0.0011377485934644938],\n",
              " [0.0007770315278321505, -0.0007831761031411588],\n",
              " [-0.0006106950459070504, 0.00032267405185848475],\n",
              " [0.001667377888225019, -0.0009048310457728803],\n",
              " [-0.00028521439526230097, -0.00017894602206069976],\n",
              " [0.00163818069268018, 0.0009369734325446188],\n",
              " [-0.0005078670801594853, -0.0006467500352300704],\n",
              " [0.0008440700476057827, 0.000831961864605546],\n",
              " [-0.0009567674715071917, -0.0011877142824232578],\n",
              " [0.0005265927175059915, 0.000325541477650404],\n",
              " [-0.0015297242207452655, -0.0010988065041601658],\n",
              " [0.0003982757043559104, 4.794725464307703e-05],\n",
              " [-0.0016577463829889894, -0.00030557726859115064],\n",
              " [0.0005552219226956367, -0.00010337441199226305],\n",
              " [-0.0012368796160444617, 0.00011747604730771855],\n",
              " [0.00091136823175475, -0.0003178281185682863],\n",
              " [-0.0007785280467942357, 0.00015723705291748047],\n",
              " [0.0012759361416101456, -0.00043975311564281583],\n",
              " [-0.0004266152100171894, 4.0080383769236505e-05],\n",
              " [0.0015367750311270356, -0.00023160727869253606],\n",
              " [-0.0002446989237796515, -0.00017140581621788442],\n",
              " [0.0014069918543100357, 0.0009896057890728116],\n",
              " [-0.00041850475827232003, -0.0011851616436615586],\n",
              " [0.0004202752897981554, 0.0013890084810554981],\n",
              " [-0.0003855405666399747, -0.0022152310702949762],\n",
              " [8.369933493668213e-05, 0.0002432265755487606],\n",
              " [-0.0008459846721962094, -0.0025355725083500147],\n",
              " [7.552659440079879e-07, -0.00032829344854690135],\n",
              " [2.4635564841446467e-05, 0.0017546693561598659],\n",
              " [-2.5061988253582967e-06, -0.001253248075954616],\n",
              " [8.363260712940246e-05, 0.0005154575919732451],\n",
              " [-0.0003329230530653149, -0.0019970014691352844],\n",
              " [0.00017844523245003074, -0.00016959678032435477],\n",
              " [-0.0013421813491731882, 0.0011852189199998975],\n",
              " [0.0009341703844256699, -0.0007467183168046176],\n",
              " [-0.0008024799753911793, 0.0002980126300826669],\n",
              " [0.0018164891516789794, -0.0007304886821657419],\n",
              " [-0.000385938270483166, -0.00017514840874355286],\n",
              " [0.001761461142450571, 0.00070241279900074],\n",
              " [-0.0005126711912453175, -0.0005845056148245931],\n",
              " [0.0009548135567456484, 0.0008953746291808784],\n",
              " [-0.0008990778005681932, -0.0011692673433572054],\n",
              " [0.0005425689159892499, 0.0004281772125978023],\n",
              " [-0.0014128291513770819, -0.0012937616556882858],\n",
              " [0.00036241504130885005, 9.222533117281273e-05],\n",
              " [-0.0017557383980602026, -0.0005479308310896158],\n",
              " [0.0004357233992777765, -6.63436294416897e-05],\n",
              " [-0.001401664107106626, 0.0001234349183505401],\n",
              " [0.0007992727332748473, -0.00033686193637549877],\n",
              " [-0.000865885813254863, 0.00027983912150375545],\n",
              " [0.0012283395044505596, -0.0006456744740717113],\n",
              " [-0.0004054027667734772, 0.0001916730689117685],\n",
              " [0.0016122760716825724, -0.0009101179311983287],\n",
              " [-2.404349834250752e-05, 7.865707448218018e-05],\n",
              " [0.0009700406808406115, -0.003221056191250682],\n",
              " [0.0003735755162779242, -0.0004808734229300171],\n",
              " [-0.0009802129352465272, 0.0012511287350207567],\n",
              " [0.0006582330097444355, -0.0013580339727923274],\n",
              " [-0.0001862101926235482, 0.0005111184436827898],\n",
              " [0.000766756827943027, -0.002216414548456669],\n",
              " [8.858522051014006e-05, -0.00018139058374799788],\n",
              " [-0.000795730680692941, 0.001600189134478569],\n",
              " [0.0004916989128105342, -0.001109392149373889],\n",
              " [-0.0002965462626889348, 0.0004962142556905746],\n",
              " [0.0010779313743114471, -0.0017758007161319256],\n",
              " [-0.00011763303336920217, -0.00016942490765359253],\n",
              " [0.0011593683157116175, 0.001562471967190504],\n",
              " [-0.0005590654327534139, -0.0008073793142102659],\n",
              " [0.0007916868780739605, 0.0006853662780486047],\n",
              " [-0.0013034602161496878, -0.0011735432781279087],\n",
              " [0.000684278376866132, 0.00010767338244477287],\n",
              " [-0.001793279661796987, -0.00043608812848106027],\n",
              " [0.0007206954178400338, -0.00010313194070477039],\n",
              " [-0.0013566146371886134, 2.929432775999885e-05],\n",
              " [0.0010245753219351172, -0.00024245695385616273],\n",
              " [-0.0008947044261731207, 3.203214146196842e-05],\n",
              " [0.0013061906211078167, -0.0002090738998958841],\n",
              " [-0.000599631224758923, -0.00011111723142676055]]"
            ]
          },
          "metadata": {},
          "execution_count": 26
        }
      ]
    },
    {
      "cell_type": "code",
      "source": [
        "x1_val=[]\n",
        "y1_val=[]\n",
        "for item in x:\n",
        "  x1_val.append(item[0])\n",
        "  y1_val.append(item[1])\n",
        "x2_val=[]\n",
        "y2_val=[]\n",
        "for item in y:\n",
        "  x2_val.append(item[0])\n",
        "  y2_val.append(item[1])"
      ],
      "metadata": {
        "id": "NWnz66hg9uFy"
      },
      "execution_count": null,
      "outputs": []
    },
    {
      "cell_type": "code",
      "source": [
        "plt.plot(x1_val,y1_val)"
      ],
      "metadata": {
        "colab": {
          "base_uri": "https://localhost:8080/",
          "height": 282
        },
        "id": "DdndciitQyXa",
        "outputId": "9f2de3c4-4025-4637-e352-50640e4d8c3c"
      },
      "execution_count": null,
      "outputs": [
        {
          "output_type": "execute_result",
          "data": {
            "text/plain": [
              "[<matplotlib.lines.Line2D at 0x7f9088978ca0>]"
            ]
          },
          "metadata": {},
          "execution_count": 28
        },
        {
          "output_type": "display_data",
          "data": {
            "text/plain": [
              "<Figure size 432x288 with 1 Axes>"
            ],
            "image/png": "[encoded data removed]"
          },
          "metadata": {
            "needs_background": "light"
          }
        }
      ]
    },
    {
      "cell_type": "code",
      "source": [
        "plt.plot(x2_val,y2_val)"
      ],
      "metadata": {
        "colab": {
          "base_uri": "https://localhost:8080/",
          "height": 282
        },
        "id": "BkIngWxwRPBv",
        "outputId": "c017e621-738c-4ebe-c419-882a52f04192"
      },
      "execution_count": null,
      "outputs": [
        {
          "output_type": "execute_result",
          "data": {
            "text/plain": [
              "[<matplotlib.lines.Line2D at 0x7f908785e370>]"
            ]
          },
          "metadata": {},
          "execution_count": 29
        },
        {
          "output_type": "display_data",
          "data": {
            "text/plain": [
              "<Figure size 432x288 with 1 Axes>"
            ],
            "image/png": "[encoded data removed]"
          },
          "metadata": {
            "needs_background": "light"
          }
        }
      ]
    }
  ]
}